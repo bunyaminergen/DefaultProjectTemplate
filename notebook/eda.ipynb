{
 "cells": [
  {
   "cell_type": "code",
   "id": "initial_id",
   "metadata": {
    "collapsed": true,
    "ExecuteTime": {
     "end_time": "2025-01-24T10:20:43.288585Z",
     "start_time": "2025-01-24T10:20:43.281454Z"
    }
   },
   "source": [
    "import os\n",
    "import pandas as pd\n",
    "\n",
    "print(os.getcwd())\n",
    "\n",
    "df_labels = pd.read_csv(\"/home/bunyamin/Desktop/BE_PC/Work/2.Project/5.Heartbeat/Dev/Heartbeat/.data/raw/train/REFERENCE-v3.csv\",\n",
    "                        sep=\",\",\n",
    "                        header=None,\n",
    "                        names=[\"record\", \"label\"])\n",
    "\n",
    "print(df_labels.shape)\n",
    "\n",
    "print(df_labels['label'].value_counts())\n",
    "\n",
    "print(df_labels['label'].value_counts(normalize=True)*100)\n"
   ],
   "outputs": [
    {
     "name": "stdout",
     "output_type": "stream",
     "text": [
      "/home/bunyamin/Desktop/BE_PC/Work/2.Project/5.Heartbeat/Dev/Heartbeat/notebook\n",
      "(8528, 2)\n",
      "label\n",
      "N    5076\n",
      "O    2415\n",
      "A     758\n",
      "~     279\n",
      "Name: count, dtype: int64\n",
      "label\n",
      "N    59.521576\n",
      "O    28.318480\n",
      "A     8.888368\n",
      "~     3.271576\n",
      "Name: proportion, dtype: float64\n"
     ]
    }
   ],
   "execution_count": 8
  },
  {
   "metadata": {
    "ExecuteTime": {
     "end_time": "2025-01-24T10:20:43.328707Z",
     "start_time": "2025-01-24T10:20:43.327088Z"
    }
   },
   "cell_type": "code",
   "source": "",
   "id": "735410f22ec13a65",
   "outputs": [],
   "execution_count": null
  }
 ],
 "metadata": {
  "kernelspec": {
   "display_name": "Python 3",
   "language": "python",
   "name": "python3"
  },
  "language_info": {
   "codemirror_mode": {
    "name": "ipython",
    "version": 2
   },
   "file_extension": ".py",
   "mimetype": "text/x-python",
   "name": "python",
   "nbconvert_exporter": "python",
   "pygments_lexer": "ipython2",
   "version": "2.7.6"
  }
 },
 "nbformat": 4,
 "nbformat_minor": 5
}
